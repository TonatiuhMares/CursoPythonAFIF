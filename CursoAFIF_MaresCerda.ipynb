{
  "nbformat": 4,
  "nbformat_minor": 0,
  "metadata": {
    "colab": {
      "name": "CursoAFIF-MaresCerda.ipynb",
      "provenance": [],
      "toc_visible": true,
      "authorship_tag": "ABX9TyOQK4mOj+ak0QPIYPVL5/y/",
      "include_colab_link": true
    },
    "kernelspec": {
      "name": "python3",
      "display_name": "Python 3"
    }
  },
  "cells": [
    {
      "cell_type": "markdown",
      "metadata": {
        "id": "view-in-github",
        "colab_type": "text"
      },
      "source": [
        "<a href=\"https://colab.research.google.com/github/TonatiuhMares/CursoPythonAFIF/blob/main/CursoAFIF_MaresCerda.ipynb\" target=\"_parent\"><img src=\"https://colab.research.google.com/assets/colab-badge.svg\" alt=\"Open In Colab\"/></a>"
      ]
    },
    {
      "cell_type": "code",
      "metadata": {
        "id": "A-uxvFUDbV3O"
      },
      "source": [
        ""
      ],
      "execution_count": null,
      "outputs": []
    },
    {
      "cell_type": "markdown",
      "metadata": {
        "id": "c6WDoPbxbaVV"
      },
      "source": [
        ""
      ]
    },
    {
      "cell_type": "markdown",
      "metadata": {
        "id": "wazMm-LGba-L"
      },
      "source": [
        "\n",
        "# Clase 1 - 08 Febrero 2021"
      ]
    },
    {
      "cell_type": "markdown",
      "metadata": {
        "id": "ZYaLSS2mbhzU"
      },
      "source": [
        "## Tema 2 - Imprimir en pantalla"
      ]
    },
    {
      "cell_type": "markdown",
      "metadata": {
        "id": "4J2HtRMfFL_x"
      },
      "source": [
        "# Clase 2 - 09 Febrero 2021"
      ]
    },
    {
      "cell_type": "code",
      "metadata": {
        "colab": {
          "base_uri": "https://localhost:8080/"
        },
        "id": "p-Q7MbQGcdBZ",
        "outputId": "c81b322e-a085-402c-8515-90d03674ef48"
      },
      "source": [
        "# Creando una variable string\n",
        "Mensaje = \"Hola\"\n",
        "\n",
        "# Imprimiendo la variable\n",
        "print(Mensaje)\n",
        "\n",
        "print(\"\\t¿Como estas? \\n \\tEstoy bien\", Mensaje)\n",
        "# \\n es un salto de linea\n",
        "# \\t es un tabulador"
      ],
      "execution_count": null,
      "outputs": [
        {
          "output_type": "stream",
          "text": [
            "Hola\n",
            "\t¿Como estas? \n",
            " \tEstoy bien Hola\n"
          ],
          "name": "stdout"
        }
      ]
    },
    {
      "cell_type": "code",
      "metadata": {
        "colab": {
          "base_uri": "https://localhost:8080/"
        },
        "id": "Ae6fyLl8edO7",
        "outputId": "d0b9f496-2acb-4655-82b6-7554e67e550b"
      },
      "source": [
        "# Concatenacion de strings\n",
        "M_1 = \"Estoy\"\n",
        "M_2 = \" dando\"\n",
        "M_3 = \" una clase\"\n",
        "M_total = M_1 + M_2 + M_3\n",
        "\n",
        "print(M_total)\n",
        "print(M_1 + M_2 + M_3 + \" de Python\")\n",
        "\n",
        "# No hacer esto! \n",
        "Numero_1 = \"1\". # Aquí el (1 y 2) son caracteres, mas no dígitos, por lo cual el programa solo los imprimirá y no sumará.\n",
        "Numero_2 = \"2\"\n",
        "Numero_3 = Numero_1 + Numero_2\n",
        "print(Numero_3)"
      ],
      "execution_count": null,
      "outputs": [
        {
          "output_type": "stream",
          "text": [
            "Estoy dando una clase\n",
            "Estoy dando una clase de Python\n",
            "12\n"
          ],
          "name": "stdout"
        }
      ]
    },
    {
      "cell_type": "code",
      "metadata": {
        "colab": {
          "base_uri": "https://localhost:8080/"
        },
        "id": "tO4yN6Z9en2a",
        "outputId": "f6d24540-d530-4e70-d5e6-bd96e9d4fad8"
      },
      "source": [
        "# Tarea 1--------------------\n",
        "#Solicitando al usuario un string\n",
        "Nombre = input(\"¿Cuál es tu nombre?: \")\n",
        "# Solicitando un string al usuario mediante un mensaje\n",
        "Apellido = input(\"¿Cuál es tu apellido?: \")\n",
        "Edad = input(\"Ingresa tu edad: \")\n",
        "\n",
        "print(\"Tu nombre es\", Nombre, Apellido, \"con edad de\",(Edad), \"años\")"
      ],
      "execution_count": null,
      "outputs": [
        {
          "output_type": "stream",
          "text": [
            "¿Cuál es tu nombre?: g\n",
            "¿Cuál es tu apellido?: g\n",
            "Ingresa tu edad: f\n",
            "Tu nombre es g g con edad de f años\n"
          ],
          "name": "stdout"
        }
      ]
    },
    {
      "cell_type": "markdown",
      "metadata": {
        "id": "VrnMrzcnpFAY"
      },
      "source": [
        "## Tema 3 - Variables"
      ]
    },
    {
      "cell_type": "markdown",
      "metadata": {
        "id": "eHUBRJ9r-2mo"
      },
      "source": [
        "Existen distintos tipos de varables (flotante, entero, string y booleano);\r\n",
        "\r\n",
        "- Flotantes: son aquellos numeros que cuentan con decimal, estos pueden ser negativos y de igual forma contar con muchos decimales ( 156.2 , -12.2162 ).\r\n",
        "\r\n",
        "- Entero: son aquellos numeros que como su nombre lo indica son de tipo entero, es decir solo es un número cerrado, de igual forma pueden ser negativos ( 26 , -49526 ).\r\n",
        "\r\n",
        "- String: En este caso de string se puede considerar como texto, por ejemplo dentro de una variable podemos guardar texto ( 'Hola' , \"Cómo están?\" , '26.26' ). Cabe recalcar que la variable se debe colocar entre comillas simples o dobles.\r\n",
        "\r\n",
        "- Booleano: Las variables de este tipo son dos solamente ( True & False )."
      ]
    },
    {
      "cell_type": "code",
      "metadata": {
        "colab": {
          "base_uri": "https://localhost:8080/"
        },
        "id": "Pixgj2ay-4GW",
        "outputId": "93b836e9-84c8-4434-9592-f8d0055b7e84"
      },
      "source": [
        "entero = 17\r\n",
        "flotante = 21.21\r\n",
        "string = 'Texto'\r\n",
        "booleanos = True\r\n",
        "\r\n",
        "print('Los valores enteros son por ejemplo -> ', (entero), '      ', type(entero))\r\n",
        "print('Los valores flotante son por ejemplo -> ', (flotante), '  ', type(flotante))\r\n",
        "print('Los valores string son por ejemplo -> ', (string), '    ', type(string))\r\n",
        "print('Los valores booleanos son por ejemplo-> ', (booleanos), '   ', type(booleanos))"
      ],
      "execution_count": null,
      "outputs": [
        {
          "output_type": "stream",
          "text": [
            "Los valores enteros son por ejemplo ->  17        <class 'int'>\n",
            "Los valores flotante son por ejemplo ->  21.21    <class 'float'>\n",
            "Los valores string son por ejemplo ->  Texto      <class 'str'>\n",
            "Los valores booleanos son por ejemplo->  True     <class 'bool'>\n"
          ],
          "name": "stdout"
        }
      ]
    },
    {
      "cell_type": "markdown",
      "metadata": {
        "id": "wqa5bdIPAlWr"
      },
      "source": [
        "Para una tupla podemos definirlo entre paréntesis. ()\r\n",
        "\r\n",
        "Para una lista deberemos utilizar corcehetes -> []\r\n",
        "\r\n",
        "Para el set deberemos utilizar llaves -> {}\r\n",
        "\r\n",
        "Para un diccionario debemos interpretarlo de la siguiente manera \r\n",
        "\r\n",
        "```\r\n",
        "diccionario = {2:2, 1:5}\r\n",
        "```\r\n",
        "\r\n"
      ]
    },
    {
      "cell_type": "markdown",
      "metadata": {
        "id": "Wq62u76sFIYf"
      },
      "source": [
        "## Tema 4 - Conversión de Datos"
      ]
    },
    {
      "cell_type": "markdown",
      "metadata": {
        "id": "6qOYxWdVFaq3"
      },
      "source": [
        "En este tema veremos como pasar de un tipo de variable a otro."
      ]
    },
    {
      "cell_type": "code",
      "metadata": {
        "id": "E1GtwnkbF3FE"
      },
      "source": [
        "### A Variable Entera (Int)  ###\r\n",
        "r = \"23\" # Este valor es de tipo string o texto\r\n",
        "s = int(r) # Con esta funcion podremos cambiar el valor del tipo que sea a entero\r\n",
        "print(s, type(s))\r\n",
        "# Y de esta forma podremos realizar operaciones numéricas con este valor.\r\n",
        "print( s + 8 )\r\n",
        "\r\n",
        "print(' ')\r\n",
        "\r\n",
        "\r\n",
        "### A Variable String (str)  ###\r\n",
        "f = 45 # Esta variable inicialmente es de tipo entero o int\r\n",
        "g = str(f)\r\n",
        "print(g, type(g))\r\n",
        "\r\n",
        "print(' ')\r\n",
        "\r\n",
        "### A Variable Flotante o float ###\r\n",
        "d = '46.46' # Esta varible inicialmente es de tipo string\r\n",
        "a = float(d)\r\n",
        "print(a, type(a))\r\n",
        "\r\n"
      ],
      "execution_count": null,
      "outputs": []
    },
    {
      "cell_type": "markdown",
      "metadata": {
        "id": "82tUCEh6Lumn"
      },
      "source": [
        "# Clase 3 - 10 Febrero 2021"
      ]
    },
    {
      "cell_type": "markdown",
      "metadata": {
        "id": "q39ir8CGL0_k"
      },
      "source": [
        "## Tema 5 - Listas, Tupples y Diccionarios"
      ]
    },
    {
      "cell_type": "markdown",
      "metadata": {
        "id": "qyzuA6veMhT2"
      },
      "source": [
        "**Indices en listas**\r\n",
        "\r\n",
        "Las listas son mutables, es decir podemos cambiar los componentes."
      ]
    },
    {
      "cell_type": "code",
      "metadata": {
        "id": "c_C5GdVJRGQu"
      },
      "source": [
        "import numpy as np"
      ],
      "execution_count": null,
      "outputs": []
    },
    {
      "cell_type": "code",
      "metadata": {
        "colab": {
          "base_uri": "https://localhost:8080/"
        },
        "id": "HkzPDYWRMqxE",
        "outputId": "f96045fa-f649-42a3-90fc-77945aba65d1"
      },
      "source": [
        "A = [89,56,54,2,3]\r\n",
        "print(A)"
      ],
      "execution_count": null,
      "outputs": [
        {
          "output_type": "stream",
          "text": [
            "[89, 56, 54, 2, 3]\n"
          ],
          "name": "stdout"
        }
      ]
    },
    {
      "cell_type": "code",
      "metadata": {
        "colab": {
          "base_uri": "https://localhost:8080/"
        },
        "id": "d8K96txlNzn-",
        "outputId": "7e5759fd-1219-485e-e8c0-d1f331bb2b1c"
      },
      "source": [
        "A[2] = 12  # En este caso cambiaremos el valor en la posición 2 por el número 12.\r\n",
        "A"
      ],
      "execution_count": null,
      "outputs": [
        {
          "output_type": "execute_result",
          "data": {
            "text/plain": [
              "[89, 56, 12, 2, 3]"
            ]
          },
          "metadata": {
            "tags": []
          },
          "execution_count": 15
        }
      ]
    },
    {
      "cell_type": "markdown",
      "metadata": {
        "id": "2gdx-j_9Ozgu"
      },
      "source": [
        "**Añadir elementos a listas**\r\n"
      ]
    },
    {
      "cell_type": "code",
      "metadata": {
        "colab": {
          "base_uri": "https://localhost:8080/"
        },
        "id": "3yxhUFTMO50K",
        "outputId": "54eefea6-f3ee-4a86-e839-0c0067fd40b3"
      },
      "source": [
        "B = [1,2,3] \r\n",
        "\r\n",
        "# Para agregar usamos lo siguiente\r\n",
        "B.append(8)\r\n",
        "B"
      ],
      "execution_count": null,
      "outputs": [
        {
          "output_type": "execute_result",
          "data": {
            "text/plain": [
              "[1, 2, 3, 8]"
            ]
          },
          "metadata": {
            "tags": []
          },
          "execution_count": 16
        }
      ]
    },
    {
      "cell_type": "code",
      "metadata": {
        "colab": {
          "base_uri": "https://localhost:8080/"
        },
        "id": "JVX8WDpPPmaM",
        "outputId": "a6375064-5099-4dbd-b4ab-839605bd6644"
      },
      "source": [
        "C = []\r\n",
        "C.append([5,6,7])\r\n",
        "C.append([5,5,2])  \r\n",
        "C"
      ],
      "execution_count": null,
      "outputs": [
        {
          "output_type": "execute_result",
          "data": {
            "text/plain": [
              "[[5, 6, 7], [5, 5, 2]]"
            ]
          },
          "metadata": {
            "tags": []
          },
          "execution_count": 20
        }
      ]
    },
    {
      "cell_type": "code",
      "metadata": {
        "colab": {
          "base_uri": "https://localhost:8080/"
        },
        "id": "9yMnzLSwRRS5",
        "outputId": "75773c83-ddf5-435e-ac94-07be73ee0392"
      },
      "source": [
        "C = np.array(C)\r\n",
        "C\r\n"
      ],
      "execution_count": null,
      "outputs": [
        {
          "output_type": "execute_result",
          "data": {
            "text/plain": [
              "array([[5, 6, 7],\n",
              "       [5, 5, 2]])"
            ]
          },
          "metadata": {
            "tags": []
          },
          "execution_count": 21
        }
      ]
    },
    {
      "cell_type": "markdown",
      "metadata": {
        "id": "WbdQejesTD0Z"
      },
      "source": [
        "**- Operaciones con listas**"
      ]
    },
    {
      "cell_type": "code",
      "metadata": {
        "colab": {
          "base_uri": "https://localhost:8080/"
        },
        "id": "xj0dbFOeTITl",
        "outputId": "12652eba-a142-4483-e83f-2da23431fbef"
      },
      "source": [
        "C = []\r\n",
        "C.append([5,6,7])\r\n",
        "C.append([5,5,2])  \r\n",
        "C\r\n",
        "\r\n",
        "\r\n"
      ],
      "execution_count": null,
      "outputs": [
        {
          "output_type": "execute_result",
          "data": {
            "text/plain": [
              "[[5, 6, 7], [5, 5, 2]]"
            ]
          },
          "metadata": {
            "tags": []
          },
          "execution_count": 22
        }
      ]
    },
    {
      "cell_type": "code",
      "metadata": {
        "colab": {
          "base_uri": "https://localhost:8080/"
        },
        "id": "1y6Qwnc9T1EW",
        "outputId": "2aafdaaf-25b0-429d-89de-7164081a4812"
      },
      "source": [
        "print(C[1][2]) # En esta parte lo que hacemos es imprimir un digito de un vector de otro vector\r\n",
        "# El primer [1] decimos que queremos el primer vector, y el segundo [2] inidcamos la posicion del numero que queremos."
      ],
      "execution_count": null,
      "outputs": [
        {
          "output_type": "stream",
          "text": [
            "2\n"
          ],
          "name": "stdout"
        }
      ]
    },
    {
      "cell_type": "code",
      "metadata": {
        "colab": {
          "base_uri": "https://localhost:8080/"
        },
        "id": "xSMVlDrnU1k6",
        "outputId": "8e41eb14-c58e-46b8-a68a-6901d9c32647"
      },
      "source": [
        "V = [1,2,3,4,5,6,7,8,9,10]\r\n",
        "# Para sumar los componentes que conforman un vector usamos:\r\n",
        "Suma = sum(V)\r\n",
        "print(Suma)\r\n",
        "\r\n",
        "# Para la lontitud del vector usamos:\r\n",
        "Longitud = len(V)\r\n",
        "print('La longitud es de: ', Longitud, 'dígitos')\r\n",
        "\r\n"
      ],
      "execution_count": null,
      "outputs": [
        {
          "output_type": "stream",
          "text": [
            "55\n",
            "La longitud es de:  10 dígitos\n"
          ],
          "name": "stdout"
        }
      ]
    },
    {
      "cell_type": "code",
      "metadata": {
        "colab": {
          "base_uri": "https://localhost:8080/"
        },
        "id": "lJlF4kjoVi7y",
        "outputId": "9173c257-97de-495a-e617-81c6d02d5013"
      },
      "source": [
        "# Y con esto podremos sacar el promedio o la media del vector ingresado\r\n",
        "# Para esto dividiremos la suma entre la longitud\r\n",
        "Promedio = sum(V)/len(V)\r\n",
        "print('El promedio obtenido es de: ', Promedio)"
      ],
      "execution_count": null,
      "outputs": [
        {
          "output_type": "stream",
          "text": [
            "El promedio obtenido es de:  5.5\n"
          ],
          "name": "stdout"
        }
      ]
    },
    {
      "cell_type": "code",
      "metadata": {
        "colab": {
          "base_uri": "https://localhost:8080/"
        },
        "id": "mGS7y0T4WGfz",
        "outputId": "8b12559c-5fcc-4c51-e4b6-c52e0cb947b8"
      },
      "source": [
        "# Otra forma de realizar el promedio de una manera más rapida es utilizand:\r\n",
        "import statistics as st\r\n",
        "Promedio2 = st.mean(V)\r\n",
        "print('El promedio2 obtenido es de: ', Promedio2)\r\n",
        "# Y como vemos nos arroja el mismo resultado.\r\n",
        "\r\n",
        "# Otro metodo es solamente ->\r\n",
        "import statistics \r\n",
        "Promedio3 = statistics.mean(V)\r\n",
        "print('El promedio3 obtenido es de: ', Promedio3)"
      ],
      "execution_count": null,
      "outputs": [
        {
          "output_type": "stream",
          "text": [
            "El promedio2 obtenido es de:  5.5\n",
            "El promedio3 obtenido es de:  5.5\n"
          ],
          "name": "stdout"
        }
      ]
    },
    {
      "cell_type": "markdown",
      "metadata": {
        "id": "Lax3cPv0WwFK"
      },
      "source": [
        "**- Listas con string**"
      ]
    },
    {
      "cell_type": "code",
      "metadata": {
        "colab": {
          "base_uri": "https://localhost:8080/"
        },
        "id": "Gi-oP8rhWznv",
        "outputId": "6bc30d52-bfc0-4fcc-aa7f-8062561adc25"
      },
      "source": [
        "Strings = ['abc', 'def', 'ghi', 'jkl']\r\n",
        "print(Strings[0][0])"
      ],
      "execution_count": null,
      "outputs": [
        {
          "output_type": "stream",
          "text": [
            "a\n"
          ],
          "name": "stdout"
        }
      ]
    },
    {
      "cell_type": "code",
      "metadata": {
        "colab": {
          "base_uri": "https://localhost:8080/"
        },
        "id": "6UCuoVSlXUIb",
        "outputId": "f32af428-91d8-491b-a386-d0d46ca68fa6"
      },
      "source": [
        "# De igual forma podemos conocer la longitud\r\n",
        "LongitudL = len(Strings)\r\n",
        "print(LongitudL)\r\n",
        "\r\n",
        "print(Strings[0][0:2])"
      ],
      "execution_count": null,
      "outputs": [
        {
          "output_type": "stream",
          "text": [
            "4\n",
            "ab\n"
          ],
          "name": "stdout"
        }
      ]
    },
    {
      "cell_type": "markdown",
      "metadata": {
        "id": "qkh8JPtid0D2"
      },
      "source": [
        "**- Diccionario**"
      ]
    },
    {
      "cell_type": "code",
      "metadata": {
        "id": "0fX1XK8hd4Of"
      },
      "source": [
        "Alumno_1 = {\r\n",
        "    'Nombre':'Juan Tonatiuh',\r\n",
        "    'Apellidos': 'Mares Cerda',\r\n",
        "    'Matricula':'19000810',\r\n",
        "    'Carrera': 'Mecatrónica',\r\n",
        "    'Beca': 'Cultural'\r\n",
        "}"
      ],
      "execution_count": null,
      "outputs": []
    },
    {
      "cell_type": "code",
      "metadata": {
        "colab": {
          "base_uri": "https://localhost:8080/"
        },
        "id": "kh20Gedpelik",
        "outputId": "10105128-63bd-49d1-b504-c878e214f897"
      },
      "source": [
        "print(Alumno_1['Matricula'])"
      ],
      "execution_count": null,
      "outputs": [
        {
          "output_type": "stream",
          "text": [
            "19000810\n"
          ],
          "name": "stdout"
        }
      ]
    },
    {
      "cell_type": "code",
      "metadata": {
        "colab": {
          "base_uri": "https://localhost:8080/"
        },
        "id": "WNd5nlDGfMfi",
        "outputId": "3fa821c1-cf12-440f-f2a1-294d223d6ad7"
      },
      "source": [
        "# Para agregar una seccion dentro del diccionario, deberemos usar:\r\n",
        "Alumno_1.update({'Especialidad':'Optomecatrónica'})\r\n",
        "Alumno_1"
      ],
      "execution_count": null,
      "outputs": [
        {
          "output_type": "execute_result",
          "data": {
            "text/plain": [
              "{'Apellidos': 'Mares Cerda',\n",
              " 'Beca': 'Cultural',\n",
              " 'Carrera': 'Mecatrónica',\n",
              " 'Especialidad': 'Optomecatrónica',\n",
              " 'Matricula': '19000810',\n",
              " 'Nombre': 'Juan Tonatiuh'}"
            ]
          },
          "metadata": {
            "tags": []
          },
          "execution_count": 49
        }
      ]
    },
    {
      "cell_type": "markdown",
      "metadata": {
        "id": "uoL1PUQsgGVQ"
      },
      "source": [
        "En los diccionarios podemos anidarlos"
      ]
    },
    {
      "cell_type": "code",
      "metadata": {
        "id": "2nYcpKBvgSK_"
      },
      "source": [
        "Pacientes = [\n",
        "    {\n",
        "     'Nombre':'Juan',\n",
        "     'Seguro':'Si',\n",
        "     'ID_seguro':'987654321',\n",
        "     'Covid':'Si',\n",
        "     'G_sanguineo':'AB+'\n",
        "    },\n",
        "\n",
        "    {\n",
        "     'Nombre':'Maria',\n",
        "     'Seguro':'Si',\n",
        "     'ID_seguro':'123456789',\n",
        "     'Covid':'No',\n",
        "     'G_sanguineo':'A+'\n",
        "    },\n",
        "\n",
        "    {\n",
        "     'Nombre':'Ernesto',\n",
        "     'Seguro':'No',\n",
        "     'ID_seguro':'N/A',\n",
        "     'Covid':'No',\n",
        "     'G_sanguineo':'B+',\n",
        "    }\n",
        "]"
      ],
      "execution_count": null,
      "outputs": []
    },
    {
      "cell_type": "code",
      "metadata": {
        "id": "Hf-VIK2zhCmu",
        "colab": {
          "base_uri": "https://localhost:8080/"
        },
        "outputId": "77e5fa12-43ef-4ce0-b3f3-f2d59e58b1be"
      },
      "source": [
        "print(Pacientes[2]['Seguro'])"
      ],
      "execution_count": null,
      "outputs": [
        {
          "output_type": "stream",
          "text": [
            "No\n"
          ],
          "name": "stdout"
        }
      ]
    },
    {
      "cell_type": "markdown",
      "metadata": {
        "id": "Z2hEsAtqiI3R"
      },
      "source": [
        "## Tarea"
      ]
    },
    {
      "cell_type": "code",
      "metadata": {
        "colab": {
          "base_uri": "https://localhost:8080/"
        },
        "id": "CDNq26-yiNaO",
        "outputId": "46cbb659-3b6d-4126-97f1-9ac164b69034"
      },
      "source": [
        "Vehículos = [\r\n",
        "    {\r\n",
        "     'No._Vehículo' : '1',\r\n",
        "     'Tipo de vehiculo': input(\"Tipo: \").capitalize(),\r\n",
        "     'Marca':input(\"Marca: \").upper(),\r\n",
        "     'Puertas':input(\"¿Cuántas puertas tiene?: \"),\r\n",
        "     'Placas':input(\"Placas: \").upper(),\r\n",
        "     'Verificación_Reciente':input(\"¿El auto tiene verificación?\"),\r\n",
        "    },\r\n",
        "\r\n",
        "    {\r\n",
        "     'No._Vehículo' : '2',\r\n",
        "     'Tipo de vehiculo': input(\"Tipo: \").capitalize(),\r\n",
        "     'Marca':input(\"Marca: \").upper(),\r\n",
        "     'Puertas':input(\"¿Cuántas puertas tiene?: \"),\r\n",
        "     'Placas':input(\"Placas: \").upper(),\r\n",
        "     'Verificación_Reciente':input(\"¿El auto tiene verificación?\"),\r\n",
        "    },\r\n",
        "\r\n",
        "    {\r\n",
        "     'No._Vehículo' : '3',\r\n",
        "     'Tipo de vehiculo': input(\"Tipo: \").capitalize(),\r\n",
        "     'Marca':input(\"Marca\").upper(),\r\n",
        "     'Puertas':input(\"¿Cuántas puertas tiene?: \"),\r\n",
        "     'Placas':input(\"Placas: \").upper(),\r\n",
        "     'Verificación_Reciente':input(\"¿El auto tiene verificación?\"),\r\n",
        "     }\r\n",
        "]"
      ],
      "execution_count": 98,
      "outputs": [
        {
          "output_type": "stream",
          "text": [
            "Tipo: Mini\n",
            "Marca: bmw\n",
            "¿Cuántas puertas tiene?: 3\n",
            "Placas: GAF17261\n",
            "¿El auto tiene verificación?SI\n",
            "Tipo: couple\n",
            "Marca: Chevrolet\n",
            "¿Cuántas puertas tiene?: 5\n",
            "Placas: GFK7283\n",
            "¿El auto tiene verificación?Si\n",
            "Tipo: Truck\n",
            "Marcaaudi\n",
            "¿Cuántas puertas tiene?: 3\n",
            "Placas: hsgd736363\n",
            "¿El auto tiene verificación?Si\n"
          ],
          "name": "stdout"
        }
      ]
    },
    {
      "cell_type": "code",
      "metadata": {
        "colab": {
          "base_uri": "https://localhost:8080/"
        },
        "id": "OtYz22bXk5R7",
        "outputId": "a2f07057-fd92-4266-876e-7e714a23b444"
      },
      "source": [
        "Vehículos[0].update({'No. Propietarios':input('Introduce el numero de dueños: ')})\r\n",
        "Vehículos "
      ],
      "execution_count": 99,
      "outputs": [
        {
          "output_type": "stream",
          "text": [
            "Introduce el numero de dueños: 6\n"
          ],
          "name": "stdout"
        },
        {
          "output_type": "execute_result",
          "data": {
            "text/plain": [
              "[{'Marca': 'BMW',\n",
              "  'No. Propietarios': '6',\n",
              "  'No._Vehículo': '1',\n",
              "  'Placas': 'GAF17261',\n",
              "  'Puertas': '3',\n",
              "  'Tipo de vehiculo': 'Mini',\n",
              "  'Verificación_Reciente': 'SI'},\n",
              " {'Marca': 'CHEVROLET',\n",
              "  'No._Vehículo': '2',\n",
              "  'Placas': 'GFK7283',\n",
              "  'Puertas': '5',\n",
              "  'Tipo de vehiculo': 'Couple',\n",
              "  'Verificación_Reciente': 'Si'},\n",
              " {'Marca': 'AUDI',\n",
              "  'No._Vehículo': '3',\n",
              "  'Placas': 'HSGD736363',\n",
              "  'Puertas': '3',\n",
              "  'Tipo de vehiculo': 'Truck',\n",
              "  'Verificación_Reciente': 'Si'}]"
            ]
          },
          "metadata": {
            "tags": []
          },
          "execution_count": 99
        }
      ]
    }
  ]
}